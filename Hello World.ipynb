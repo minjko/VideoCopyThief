{
 "cells": [
  {
   "cell_type": "code",
   "execution_count": 3,
   "id": "5d1f67f6",
   "metadata": {},
   "outputs": [
    {
     "name": "stdout",
     "output_type": "stream",
     "text": [
      "Requirement already satisfied: opencv-python in c:\\users\\komj\\anaconda3\\envs\\videoct\\lib\\site-packages (4.8.0.74)\n",
      "Requirement already satisfied: numpy>=1.17.0 in c:\\users\\komj\\anaconda3\\envs\\videoct\\lib\\site-packages (from opencv-python) (1.25.1)\n"
     ]
    }
   ],
   "source": [
    "!pip install opencv-python"
   ]
  },
  {
   "cell_type": "code",
   "execution_count": 10,
   "id": "59aec30d",
   "metadata": {},
   "outputs": [],
   "source": [
    "import cv2\n",
    "\n",
    "# 동영상 파일 경로\n",
    "video_path = '../videos/Original.mp4'\n",
    "\n",
    "# 동영상 파일 열기\n",
    "video = cv2.VideoCapture(video_path)\n",
    "\n",
    "# 이미지 프레임 추출을 위한 변수 초기화\n",
    "frame_count = 0\n",
    "fps = video.get(cv2.CAP_PROP_FPS)\n",
    "frame_interval = int(fps * 5)  # 5초당 1프레임\n",
    "save_path = 'D:\\\\Portfolio\\\\Project\\\\VideoCopyThief\\\\videos\\\\original_frames\\\\'\n",
    "\n",
    "\n",
    "\n",
    "while True:\n",
    "    # 동영상으로부터 프레임 읽기\n",
    "    ret, frame = video.read()\n",
    "\n",
    "    # 동영상 프레임이 존재하는 경우\n",
    "    if ret:\n",
    "        if frame_count % frame_interval == 0:\n",
    "            cv2.imshow('Frame', frame)\n",
    "            \n",
    "            # (임시) 이미지 프레임 처리\n",
    "            processed_frame = frame  # 원하는 이미지 처리를 수행하는 부분\n",
    "            \n",
    "            cv2.imwrite(f'{save_path}frame_{frame_count}.jpg', processed_frame)\n",
    "\n",
    "        # 'q' 키를 누르면 종료\n",
    "        if cv2.waitKey(1) & 0xFF == ord('q'):\n",
    "            break\n",
    "\n",
    "        frame_count += 1\n",
    "    else:\n",
    "        break\n",
    "\n",
    "# 동영상 파일과 창 닫기\n",
    "video.release()\n",
    "cv2.destroyAllWindows()"
   ]
  },
  {
   "cell_type": "code",
   "execution_count": null,
   "id": "b7d1041d",
   "metadata": {},
   "outputs": [],
   "source": [
    "import cv2\n",
    "import os\n",
    "\n",
    "# 이미지 파일이 위치한 디렉토리 경로\n",
    "image_dir = '../videos/Original.mp4'\n",
    "\n",
    "# 결과 이미지를 저장할 디렉토리 경로\n",
    "output_dir = '../videos/extracted_frames'\n",
    "os.makedirs(output_dir, exist_ok=True)\n",
    "\n",
    "# 이미지 파일 목록 가져오기\n",
    "image_files = os.listdir(image_dir)\n",
    "\n",
    "for image_file in image_files:\n",
    "    # 이미지 파일 경로\n",
    "    image_path = os.path.join(image_dir, image_file)\n",
    "\n",
    "    # 이미지 파일 읽기\n",
    "    image = cv2.imread(image_path)\n",
    "\n",
    "    # 이미지 디스플레이\n",
    "    cv2.imshow('Image', image)\n",
    "    cv2.waitKey(0)\n",
    "\n",
    "    # 이미지 파일로 저장\n",
    "    output_path = os.path.join(output_dir, image_file)\n",
    "    cv2.imwrite(output_path, image)\n",
    "\n",
    "cv2.destroyAllWindows()\n"
   ]
  }
 ],
 "metadata": {
  "kernelspec": {
   "display_name": "Python 3 (ipykernel)",
   "language": "python",
   "name": "python3"
  },
  "language_info": {
   "codemirror_mode": {
    "name": "ipython",
    "version": 3
   },
   "file_extension": ".py",
   "mimetype": "text/x-python",
   "name": "python",
   "nbconvert_exporter": "python",
   "pygments_lexer": "ipython3",
   "version": "3.9.16"
  }
 },
 "nbformat": 4,
 "nbformat_minor": 5
}
